{
 "cells": [
  {
   "cell_type": "markdown",
   "metadata": {},
   "source": [
    "# 과일 개수 골라내기\n",
    "\n",
    "> 장바구니에 아래와 같은 과일이 들어있고 과일 판별 리스트가 있습니다.\n",
    "\n",
    "```python\n",
    "basket_items = {'apples': 4, 'oranges': 19, 'kites': 3, 'sandwiches': 8}\n",
    "\n",
    "fruits = ['apples', 'oranges', 'pears', 'peaches', 'grapes', 'bananas']\n",
    "\n",
    "```\n",
    "> 현재 장바구니에는 과일이 몇개이고 과일이 아닌 것은 몇개인지 출력하시오.\n",
    "---\n",
    "```\n",
    "예시 출력)\n",
    "과일은 23개이고, 11개는 과일이 아닙니다..\n",
    "```"
   ]
  },
  {
   "cell_type": "code",
   "execution_count": null,
   "metadata": {},
   "outputs": [],
   "source": [
    "basket_items = {'apples': 4, 'oranges': 19, 'kites': 3, 'sandwiches': 8}\n",
    "fruits = ['apples', 'oranges', 'pears', 'peaches', 'grapes', 'bananas']\n",
    "# 아래에 코드를 작성하세요.\n",
    "fruit_sum = 0\n",
    "nonfruit_sum = 0\n",
    "for fruit, count in basket_items.items():\n",
    "    if fruit in fruits:\n",
    "        fruit_sum += count\n",
    "    else:\n",
    "        nonfruit_sum += count\n",
    "print(f'과일은 {fruit_sum}개이고, {nonfruit_sum}개는 과일이 아닙니다..')"
   ]
  },
  {
   "cell_type": "markdown",
   "metadata": {},
   "source": [
    "# 영어 이름 출력하기 \n",
    "\n",
    "> 영어 이름은 가운데 이름을 가지고 있는 경우가 있습니다.\n",
    ">\n",
    "> 가운데 이름은 대문자로 축약해서 나타내는 코드를 작성해보세요.\n",
    "\n",
    "---\n",
    "```\n",
    "예시 입력)\n",
    "Alice Betty Catherine Davis\n",
    "```\n",
    "```\n",
    "예시 출력)\n",
    "Alice B. C. Davis\n",
    "```"
   ]
  },
  {
   "cell_type": "code",
   "execution_count": null,
   "metadata": {},
   "outputs": [],
   "source": [
    "# 아래에 코드를 작성하세요.\n",
    "names = input()\n",
    "# 입력받은 \n",
    "name_list = names.split(' ')\n",
    "name = ''\n",
    "for i in range(len(name_list)):\n",
    "    # 가운데 요소를 처리한다.\n",
    "    if i != 0 and i != len(name_list)-1:\n",
    "        name_list[i] = name_list[i][0] + '.'\n",
    "    # 리스트들을 다시 합친다, 첫 문자만 대문자화\n",
    "    name += name_list[i].capitalize() + ' '\n",
    "print(name)"
   ]
  },
  {
   "cell_type": "markdown",
   "metadata": {},
   "source": [
    "# 구구단 출력하기\n",
    "> 2단부터 9단까지 반복문을 사용하여 구구단을 출력하세요.\n",
    "---\n",
    "```\n",
    "예시 출력)\n",
    "------- [2 단] -------\n",
    "2 X 1 = 2\n",
    "2 X 2 = 4\n",
    "2 X 3 = 6\n",
    "2 X 4 = 8\n",
    "2 X 5 = 10\n",
    "2 X 6 = 12\n",
    "2 X 7 = 14\n",
    "2 X 8 = 16\n",
    "2 X 9 = 18\n",
    "\n",
    "------- [3 단] -------\n",
    "...\n",
    "```"
   ]
  },
  {
   "cell_type": "code",
   "execution_count": null,
   "metadata": {},
   "outputs": [],
   "source": [
    "# 아래에 코드를 작성하세요.\n",
    "for step in range(2,10):\n",
    "    print(f'------- [{step} 단] -------')\n",
    "    for i in range(1,10):\n",
    "        print(f'{step} X {i} = {step*i}')\n",
    "    print()"
   ]
  },
  {
   "cell_type": "markdown",
   "metadata": {},
   "source": [
    "# 달력 출력하기\n",
    "\n",
    "> 1월 1일 월요일부터 12월 31일까지 달력을 출력하세요.\n",
    "\n",
    "---\n",
    "```\n",
    "예시 출력)\n",
    "         1 월\n",
    "Mo Tu We Th Fr Sa Su \n",
    " 1  2  3  4  5  6  7 \n",
    " 8  9 10 11 12 13 14 \n",
    "15 16 17 18 19 20 21 \n",
    "22 23 24 25 26 27 28 \n",
    "29 30 31 \n",
    "         2 월\n",
    "Mo Tu We Th Fr Sa Su \n",
    " 1  2  3  4  5  6  7 \n",
    " 8  9 10 11 12 13 14 \n",
    "15 16 17 18 19 20 21 \n",
    "22 23 24 25 26 27 28 \n",
    "\n",
    "         3 월\n",
    "Mo Tu We Th Fr Sa Su \n",
    " 1  2  3  4  5  6  7 \n",
    " 8  9 10 11 12 13 14 \n",
    "15 16 17 18 19 20 21 \n",
    "22 23 24 25 26 27 28 \n",
    "29 30 31\n",
    "...\n",
    "```"
   ]
  },
  {
   "cell_type": "code",
   "execution_count": null,
   "metadata": {},
   "outputs": [],
   "source": [
    "calendar = { \n",
    "        1: 31, 2: 28, 3: 31, 4: 30, 5: 31, 6: 30, \n",
    "        7: 31, 8: 31, 9: 30, 10: 31, 11: 30, 12: 31 \n",
    "} \n",
    "weeks = ['Mo', 'Tu', 'We', 'Th', 'Fr', 'Sa', 'Su'] \n",
    "# 아래에 코드를 작성하세요.\n",
    "for months, days in calendar.items():\n",
    "    print(f'{months:10} 월')\n",
    "    for week in weeks:\n",
    "        print(f'{week} ', end='')\n",
    "    print()\n",
    "    for day in range(1,days+1):\n",
    "        print(f'{day:2} ', end='')\n",
    "        if day % 7 == 0:\n",
    "            print()    \n",
    "    print()\n",
    "    "
   ]
  },
  {
   "cell_type": "code",
   "execution_count": null,
   "metadata": {},
   "outputs": [],
   "source": [
    "# 이전 달 고려해서 달력 출력\n",
    "calendar = { \n",
    "        1: 31, 2: 28, 3: 31, 4: 30, 5: 31, 6: 30, \n",
    "        7: 31, 8: 31, 9: 30, 10: 31, 11: 30, 12: 31 \n",
    "} \n",
    "weeks = ['Mo', 'Tu', 'We', 'Th', 'Fr', 'Sa', 'Su'] \n",
    "# 아래에 코드를 작성하세요.\n",
    "day_count = 0\n",
    "month_count = 0\n",
    "for months, days in calendar.items():\n",
    "    # 월 출력\n",
    "    print(f'{months:10} 월')\n",
    "    \n",
    "    # 요일 출력\n",
    "    for week in weeks:\n",
    "        print(f'{week} ', end='')\n",
    "    print()\n",
    "    \n",
    "    # 이전 달 위치만큼 공백 집어넣기\n",
    "    print(' '*month_count, end='')\n",
    "    month_count = 0\n",
    "    \n",
    "    # 일 출력\n",
    "    for day in range(1,days+1):\n",
    "        day_count += 1\n",
    "        print(f'{day:2} ', end='')\n",
    "        # 7번 넘어가면 줄 넘기기\n",
    "        if day_count % 7 == 0:\n",
    "            day_count = 0\n",
    "            print()    \n",
    "    print()\n",
    "    \n",
    "    # 현재 달의 마지막 주의 일수에 따른 공백 계산(다음 달에 사용)\n",
    "    month_count = (day_count % 7)*3"
   ]
  },
  {
   "cell_type": "markdown",
   "metadata": {},
   "source": [
    "# 개인정보보호\n",
    "> 사용자의 핸드폰번호를 입력 받으려고한다. 개인정보 보호를 위하여 뒷자리 4자리를 제외하고는 마스킹 처리를 하려고한다.\n",
    ">\n",
    "> 핸드폰번호는 010으로 시작해야하고 11자리여야한다. 핸드폰번호를 입력하지 않았다면 \"핸드폰번호를 입력하세요\"를 출력한다\n",
    "\n",
    "```\n",
    "예시 입력)\n",
    "01012341234\n",
    "예시 출력)\n",
    "*******1234\n",
    "```"
   ]
  },
  {
   "cell_type": "code",
   "execution_count": null,
   "metadata": {},
   "outputs": [],
   "source": [
    "# 아래에 코드를 작성하세요.\n",
    "numbers = input()\n",
    "res = ''\n",
    "if len(numbers) == 11 and numbers[0:3] == '010':\n",
    "    for num in range(len(numbers)-4):\n",
    "        numbers = numbers.replace(numbers[num], '*', 1)\n",
    "    print(numbers)\n",
    "else:\n",
    "    print('핸드폰 번호를 입력하세요')"
   ]
  },
  {
   "cell_type": "code",
   "execution_count": null,
   "metadata": {},
   "outputs": [],
   "source": [
    "# 강사님 코드 1.\n",
    "numbers = input()\n",
    "if len(numbers) == 11 and numbers[0:3] == '010':\n",
    "    result = '*' * 7 + phone[-4:]\n",
    "    print(result)\n",
    "else:\n",
    "    print('핸드폰 번호를 입력하세요')\n",
    "\n",
    "# 2.\n",
    "numbers = input()\n",
    "if len(numbers) == 11 and numbers[0:3] == '010':\n",
    "    print(f'{phone[-4:]:*>11}')\n",
    "else:\n",
    "    print('핸드폰 번호를 입력하세요')"
   ]
  },
  {
   "cell_type": "markdown",
   "metadata": {},
   "source": [
    "# 정중앙\n",
    "> 사용자가 입력한 문자열중 가운데 글자를 출력하라. 문자열이 짝수라면 가운데 두글자를 출력하라"
   ]
  },
  {
   "cell_type": "code",
   "execution_count": null,
   "metadata": {},
   "outputs": [],
   "source": [
    "# 아래에 코드를 작성하세요.\n",
    "text = input()\n",
    "len_text = len(text)\n",
    "i = len_text//2\n",
    "if len_text % 2:\n",
    "    print(text[i])\n",
    "else:\n",
    "    print(f'{text[i-1]},{text[i]}')"
   ]
  },
  {
   "cell_type": "markdown",
   "metadata": {},
   "source": [
    "# 소수 찾기"
   ]
  },
  {
   "cell_type": "markdown",
   "metadata": {},
   "source": [
    "> 조건, 반복문을 응용하여 numbers 리스트의 요소들이 소수인지 아닌지 판단하는 코드를 작성하라.\n",
    "\n",
    "```python\n",
    "numbers = [26, 39, 51, 53, 57, 79, 85]\n",
    "\n",
    "# 출력 예시\n",
    "26 는 소수가 아닙니다. 2 는 26 의 인수입니다.\n",
    "39 는 소수가 아닙니다. 3 는 39 의 인수입니다.\n",
    "51 는 소수가 아닙니다. 3 는 51 의 인수입니다.\n",
    "53 는 소수입니다.\n",
    "57 는 소수가 아닙니다. 3 는 57 의 인수입니다.\n",
    "79 는 소수입니다.\n",
    "85 는 소수가 아닙니다. 5 는 85 의 인수입니다.\n",
    "```"
   ]
  },
  {
   "cell_type": "code",
   "execution_count": null,
   "metadata": {},
   "outputs": [],
   "source": [
    "numbers = [26, 39, 51, 53, 57, 79, 85]\n",
    "# 아래에 코드를 작성하세요.\n",
    "for number in numbers:\n",
    "    for i in range(2,number):\n",
    "        if number % i == 0:\n",
    "            print(f'{number} 는 소수가 아닙니다. {i} 는 {number}의 인수입니다.')\n",
    "            break\n",
    "    else:\n",
    "        print(f'{number} 는 소수입니다.')        "
   ]
  }
 ],
 "metadata": {
  "kernelspec": {
   "display_name": "Python 3",
   "language": "python",
   "name": "python3"
  },
  "language_info": {
   "codemirror_mode": {
    "name": "ipython",
    "version": 3
   },
   "file_extension": ".py",
   "mimetype": "text/x-python",
   "name": "python",
   "nbconvert_exporter": "python",
   "pygments_lexer": "ipython3",
   "version": "3.7.3"
  },
  "latex_envs": {
   "LaTeX_envs_menu_present": true,
   "autoclose": false,
   "autocomplete": true,
   "bibliofile": "biblio.bib",
   "cite_by": "apalike",
   "current_citInitial": 1,
   "eqLabelWithNumbers": true,
   "eqNumInitial": 1,
   "hotkeys": {
    "equation": "Ctrl-E",
    "itemize": "Ctrl-I"
   },
   "labels_anchors": false,
   "latex_user_defs": false,
   "report_style_numbering": false,
   "user_envs_cfg": false
  },
  "toc": {
   "base_numbering": 1,
   "nav_menu": {},
   "number_sections": true,
   "sideBar": true,
   "skip_h1_title": false,
   "title_cell": "Table of Contents",
   "title_sidebar": "Contents",
   "toc_cell": false,
   "toc_position": {},
   "toc_section_display": true,
   "toc_window_display": false
  }
 },
 "nbformat": 4,
 "nbformat_minor": 2
}
